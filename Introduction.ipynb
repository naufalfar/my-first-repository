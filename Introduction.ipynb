{
 "cells": [
  {
   "cell_type": "markdown",
   "metadata": {},
   "source": [
    "## Introduction: Business Problem"
   ]
  },
  {
   "cell_type": "markdown",
   "metadata": {},
   "source": [
    "In this project, we will try to find an optimal location for a new **coffee shop**. This report will be targeted towards anyone that are interested in opening a coffee shop in **Jakarta, Indonesia**. More specifically, the **Eastern Part of Jakarta**. This report also serves as a general report regarding the current brick-and-mortar stores business landscape in East Jakarta.\n",
    "\n",
    "The current socio-economic condition in Jakarta makes opening a new business may be a harder challenge compared to opening a business in developing countries, as consumer buying power are concentrated just into several affluent subdistricts out of dozens. Therefore, **we are looking for a subdistrict that has a good amount of businesses operating, all the while avoiding subdistricts that already has a coffee shop as a popular venue**.\n",
    "\n",
    "Despite the scarce availability of the data, we will try to sift through subdistricts of East Jakarta to estimate subdistricts that are guaranteed to have a good amount of engagement with costumers, or foot traffic if we finally decided to open our business there.\n"
   ]
  },
  {
   "cell_type": "markdown",
   "metadata": {},
   "source": [
    "## Data <a name=\"data\"></a>"
   ]
  },
  {
   "cell_type": "markdown",
   "metadata": {},
   "source": [
    "Based on definition of our problem, factors that will influence our decission are:\n",
    "* the popularity of coffee shops in the subdistrict\n",
    "* number of cumulative top 10 popular venues in each subdistrict\n",
    "\n",
    "\n",
    "Following data sources will be needed to extract/generate the required information:\n",
    "* the list of districts and subdistricts of East Jakarta will be obtained in this [wikipedia](https://id.wikipedia.org/wiki/Kota_Administrasi_Jakarta_Timur) page about East Jakarta\n",
    "* centers of subdistricts will be generated algorithmically and approximate addresses of centers of those areas will be obtained using **Geopy API**\n",
    "* the top 10 venues in each subdistrict will be obtained using **Foursquare API**\n",
    "* coordinate of Jakarta city center will be obtained using **Geopy API**"
   ]
  }
 ],
 "metadata": {
  "kernelspec": {
   "display_name": "Python 3",
   "language": "python",
   "name": "python3"
  },
  "language_info": {
   "codemirror_mode": {
    "name": "ipython",
    "version": 3
   },
   "file_extension": ".py",
   "mimetype": "text/x-python",
   "name": "python",
   "nbconvert_exporter": "python",
   "pygments_lexer": "ipython3",
   "version": "3.6.8"
  }
 },
 "nbformat": 4,
 "nbformat_minor": 4
}
